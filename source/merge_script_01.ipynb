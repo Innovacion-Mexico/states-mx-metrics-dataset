{
 "nbformat": 4,
 "nbformat_minor": 2,
 "metadata": {
  "language_info": {
   "name": "python",
   "codemirror_mode": {
    "name": "ipython",
    "version": 3
   },
   "version": "3.8.1-final"
  },
  "orig_nbformat": 2,
  "file_extension": ".py",
  "mimetype": "text/x-python",
  "name": "python",
  "npconvert_exporter": "python",
  "pygments_lexer": "ipython3",
  "version": 3,
  "kernelspec": {
   "name": "python38132bit9151f188bdd24e6f9bf1601a409e429c",
   "display_name": "Python 3.8.1 32-bit"
  }
 },
 "cells": [
  {
   "cell_type": "markdown",
   "metadata": {},
   "source": [
    "# Procesando varios datasets de diversas fuentes para juntarlos en uno solo\n",
    "Objetivo de salida: un dataset con en la que cada fila es una entidad federativa de México y cada columna un indicador sobre dicha entidad."
   ]
  },
  {
   "cell_type": "code",
   "execution_count": 1,
   "metadata": {},
   "outputs": [],
   "source": [
    "import pandas as pd\n",
    "import matplotlib.pyplot as plt"
   ]
  },
  {
   "cell_type": "markdown",
   "metadata": {},
   "source": [
    "## Empezando por los que ya estan en formato csv y tienen el mismo formato.\n",
    "Limpiando los datos inncesarios"
   ]
  },
  {
   "cell_type": "code",
   "execution_count": 2,
   "metadata": {},
   "outputs": [],
   "source": [
    "# Archivos a constantes\n",
    "DS_DIABETES = 'istabla43_2018.csv' # Detección padecimientos Diabetes por delegación, por año hasta el 2015\n",
    "DS_HIPERTENSION = 'istabla45_2018.csv' # Detección de padecimientos Hipertensión arterial por delegación, por año hasta el 2015\n",
    "DS_PADECIMIENTOS = 'istabla39_2018.csv' # Número total de detecciones por delegación, por año hasta el 2015"
   ]
  },
  {
   "cell_type": "code",
   "execution_count": 3,
   "metadata": {},
   "outputs": [],
   "source": [
    "db = pd.read_csv(DS_DIABETES, encoding='latin')\n",
    "# Ignorando la fila de totales y seleccionando solo las filas de estados\n",
    "db = db[1:36]\n",
    "# Seleccionando solo las columnas de interés\n",
    "db = db[[db.columns[0], '2015', '2018']]\n",
    "# Renombrando las columnas a su clave definida en el diccionario del dataset\n",
    "db = db.rename(columns={\n",
    "    db.columns[0] : 'EDO',\n",
    "    '2015' : 'DET.DIAB.15',\n",
    "    '2018' : 'DET.DIAB.18'\n",
    "    })"
   ]
  },
  {
   "cell_type": "code",
   "execution_count": 4,
   "metadata": {},
   "outputs": [
    {
     "output_type": "execute_result",
     "data": {
      "text/plain": "                         EDO  DET.DIAB.15  DET.DIAB.18\n1             Aguascalientes       234123       194442\n2            Baja California       582879       581767\n3        Baja California Sur        73752       106368\n4                   Campeche        67127        72631\n5                  Coahuila        478300       578930\n6                     Colima        93374       110638\n7                    Chiapas       188511       195738\n8                  Chihuahua       440178       388451\n9                 D.F. Norte      1028326      1065473\n10                  D.F. Sur       869820      1197903\n11                   Durango       215914       247689\n12                Guanajuato       263252       327972\n13                  Guerrero       178610       130607\n14                   Hidalgo       142628       106400\n15                   Jalisco      1001923      1103796\n16            México Oriente       976338       867262\n17           México Poniente       505633       557460\n18                 Michoacán       307000       304821\n19                   Morelos       105811       153693\n20                   Nayarit       133951       105228\n21                Nuevo León      1246983      1500597\n22                    Oaxaca       118744       126014\n23                    Puebla       349825       422246\n24                 Querétaro       176199       173383\n25              Quintana Roo       129828       184179\n26           San Luis Potosí       289503       321246\n27                   Sinaloa       415299       404599\n28                    Sonora       441915       388156\n29                   Tabasco       113499       140169\n30                Tamaulipas       510867       501576\n31                  Tlaxcala        76751        99386\n32            Veracruz Norte       501352       525493\n33              Veracruz Sur       196971       180296\n34                   Yucatán       189396       217296\n35                 Zacatecas        70501        74776",
      "text/html": "<div>\n<style scoped>\n    .dataframe tbody tr th:only-of-type {\n        vertical-align: middle;\n    }\n\n    .dataframe tbody tr th {\n        vertical-align: top;\n    }\n\n    .dataframe thead th {\n        text-align: right;\n    }\n</style>\n<table border=\"1\" class=\"dataframe\">\n  <thead>\n    <tr style=\"text-align: right;\">\n      <th></th>\n      <th>EDO</th>\n      <th>DET.DIAB.15</th>\n      <th>DET.DIAB.18</th>\n    </tr>\n  </thead>\n  <tbody>\n    <tr>\n      <th>1</th>\n      <td>Aguascalientes</td>\n      <td>234123</td>\n      <td>194442</td>\n    </tr>\n    <tr>\n      <th>2</th>\n      <td>Baja California</td>\n      <td>582879</td>\n      <td>581767</td>\n    </tr>\n    <tr>\n      <th>3</th>\n      <td>Baja California Sur</td>\n      <td>73752</td>\n      <td>106368</td>\n    </tr>\n    <tr>\n      <th>4</th>\n      <td>Campeche</td>\n      <td>67127</td>\n      <td>72631</td>\n    </tr>\n    <tr>\n      <th>5</th>\n      <td>Coahuila</td>\n      <td>478300</td>\n      <td>578930</td>\n    </tr>\n    <tr>\n      <th>6</th>\n      <td>Colima</td>\n      <td>93374</td>\n      <td>110638</td>\n    </tr>\n    <tr>\n      <th>7</th>\n      <td>Chiapas</td>\n      <td>188511</td>\n      <td>195738</td>\n    </tr>\n    <tr>\n      <th>8</th>\n      <td>Chihuahua</td>\n      <td>440178</td>\n      <td>388451</td>\n    </tr>\n    <tr>\n      <th>9</th>\n      <td>D.F. Norte</td>\n      <td>1028326</td>\n      <td>1065473</td>\n    </tr>\n    <tr>\n      <th>10</th>\n      <td>D.F. Sur</td>\n      <td>869820</td>\n      <td>1197903</td>\n    </tr>\n    <tr>\n      <th>11</th>\n      <td>Durango</td>\n      <td>215914</td>\n      <td>247689</td>\n    </tr>\n    <tr>\n      <th>12</th>\n      <td>Guanajuato</td>\n      <td>263252</td>\n      <td>327972</td>\n    </tr>\n    <tr>\n      <th>13</th>\n      <td>Guerrero</td>\n      <td>178610</td>\n      <td>130607</td>\n    </tr>\n    <tr>\n      <th>14</th>\n      <td>Hidalgo</td>\n      <td>142628</td>\n      <td>106400</td>\n    </tr>\n    <tr>\n      <th>15</th>\n      <td>Jalisco</td>\n      <td>1001923</td>\n      <td>1103796</td>\n    </tr>\n    <tr>\n      <th>16</th>\n      <td>México Oriente</td>\n      <td>976338</td>\n      <td>867262</td>\n    </tr>\n    <tr>\n      <th>17</th>\n      <td>México Poniente</td>\n      <td>505633</td>\n      <td>557460</td>\n    </tr>\n    <tr>\n      <th>18</th>\n      <td>Michoacán</td>\n      <td>307000</td>\n      <td>304821</td>\n    </tr>\n    <tr>\n      <th>19</th>\n      <td>Morelos</td>\n      <td>105811</td>\n      <td>153693</td>\n    </tr>\n    <tr>\n      <th>20</th>\n      <td>Nayarit</td>\n      <td>133951</td>\n      <td>105228</td>\n    </tr>\n    <tr>\n      <th>21</th>\n      <td>Nuevo León</td>\n      <td>1246983</td>\n      <td>1500597</td>\n    </tr>\n    <tr>\n      <th>22</th>\n      <td>Oaxaca</td>\n      <td>118744</td>\n      <td>126014</td>\n    </tr>\n    <tr>\n      <th>23</th>\n      <td>Puebla</td>\n      <td>349825</td>\n      <td>422246</td>\n    </tr>\n    <tr>\n      <th>24</th>\n      <td>Querétaro</td>\n      <td>176199</td>\n      <td>173383</td>\n    </tr>\n    <tr>\n      <th>25</th>\n      <td>Quintana Roo</td>\n      <td>129828</td>\n      <td>184179</td>\n    </tr>\n    <tr>\n      <th>26</th>\n      <td>San Luis Potosí</td>\n      <td>289503</td>\n      <td>321246</td>\n    </tr>\n    <tr>\n      <th>27</th>\n      <td>Sinaloa</td>\n      <td>415299</td>\n      <td>404599</td>\n    </tr>\n    <tr>\n      <th>28</th>\n      <td>Sonora</td>\n      <td>441915</td>\n      <td>388156</td>\n    </tr>\n    <tr>\n      <th>29</th>\n      <td>Tabasco</td>\n      <td>113499</td>\n      <td>140169</td>\n    </tr>\n    <tr>\n      <th>30</th>\n      <td>Tamaulipas</td>\n      <td>510867</td>\n      <td>501576</td>\n    </tr>\n    <tr>\n      <th>31</th>\n      <td>Tlaxcala</td>\n      <td>76751</td>\n      <td>99386</td>\n    </tr>\n    <tr>\n      <th>32</th>\n      <td>Veracruz Norte</td>\n      <td>501352</td>\n      <td>525493</td>\n    </tr>\n    <tr>\n      <th>33</th>\n      <td>Veracruz Sur</td>\n      <td>196971</td>\n      <td>180296</td>\n    </tr>\n    <tr>\n      <th>34</th>\n      <td>Yucatán</td>\n      <td>189396</td>\n      <td>217296</td>\n    </tr>\n    <tr>\n      <th>35</th>\n      <td>Zacatecas</td>\n      <td>70501</td>\n      <td>74776</td>\n    </tr>\n  </tbody>\n</table>\n</div>"
     },
     "metadata": {},
     "execution_count": 4
    }
   ],
   "source": [
    "# Resultado de procesado de DS_DIABETES\n",
    "db"
   ]
  },
  {
   "cell_type": "code",
   "execution_count": 5,
   "metadata": {},
   "outputs": [],
   "source": [
    "# Repitiendo el proceso para DS_HIPERTENSION\n",
    "hp = pd.read_csv(DS_HIPERTENSION, encoding='latin')\n",
    "# Ignorando la fila de totales y seleccionando solo las filas de estados\n",
    "hp = hp[1:36]\n",
    "# Seleccionando solo las columnas de interés\n",
    "hp = hp[[hp.columns[0], '2015', '2018']]\n",
    "# Renombrando las columnas a su clave definida en el diccionario del dataset\n",
    "hp = hp.rename(columns={\n",
    "    hp.columns[0] : 'EDO',\n",
    "    '2015' : 'DET.HIPT.15',\n",
    "    '2018' : 'DET.HIPT.18'\n",
    "    })"
   ]
  },
  {
   "cell_type": "code",
   "execution_count": 6,
   "metadata": {},
   "outputs": [
    {
     "output_type": "execute_result",
     "data": {
      "text/plain": "                         EDO  DET.HIPT.15  DET.HIPT.18\n1             Aguascalientes       201410       185357\n2            Baja California       566390       512157\n3        Baja California Sur        97565       105735\n4                   Campeche        85993        79592\n5                  Coahuila        464005       528650\n6                     Colima        98868       108561\n7                    Chiapas       204783       185940\n8                  Chihuahua       416534       348219\n9                 D.F. Norte       747549       858790\n10                  D.F. Sur       810255       847858\n11                   Durango       199834       220172\n12                Guanajuato       326205       340449\n13                  Guerrero       183165       149926\n14                   Hidalgo       166998       106540\n15                   Jalisco       969930       992035\n16            México Oriente      1072226       759254\n17           México Poniente       513196       506457\n18                 Michoacán       287868       280214\n19                   Morelos       111280       147855\n20                   Nayarit       134709       101418\n21                Nuevo León      1183004      1230481\n22                    Oaxaca       133215       128741\n23                    Puebla       535152       411382\n24                 Querétaro       186260       193087\n25              Quintana Roo       153642       200660\n26           San Luis Potosí       306467       303288\n27                   Sinaloa       369367       352352\n28                    Sonora       396684       354032\n29                   Tabasco       131834       150103\n30                Tamaulipas       472063       441678\n31                  Tlaxcala        83669        89937\n32            Veracruz Norte       501131       497142\n33              Veracruz Sur       232405       185960\n34                   Yucatán       226953       231902\n35                 Zacatecas        69607        66356",
      "text/html": "<div>\n<style scoped>\n    .dataframe tbody tr th:only-of-type {\n        vertical-align: middle;\n    }\n\n    .dataframe tbody tr th {\n        vertical-align: top;\n    }\n\n    .dataframe thead th {\n        text-align: right;\n    }\n</style>\n<table border=\"1\" class=\"dataframe\">\n  <thead>\n    <tr style=\"text-align: right;\">\n      <th></th>\n      <th>EDO</th>\n      <th>DET.HIPT.15</th>\n      <th>DET.HIPT.18</th>\n    </tr>\n  </thead>\n  <tbody>\n    <tr>\n      <th>1</th>\n      <td>Aguascalientes</td>\n      <td>201410</td>\n      <td>185357</td>\n    </tr>\n    <tr>\n      <th>2</th>\n      <td>Baja California</td>\n      <td>566390</td>\n      <td>512157</td>\n    </tr>\n    <tr>\n      <th>3</th>\n      <td>Baja California Sur</td>\n      <td>97565</td>\n      <td>105735</td>\n    </tr>\n    <tr>\n      <th>4</th>\n      <td>Campeche</td>\n      <td>85993</td>\n      <td>79592</td>\n    </tr>\n    <tr>\n      <th>5</th>\n      <td>Coahuila</td>\n      <td>464005</td>\n      <td>528650</td>\n    </tr>\n    <tr>\n      <th>6</th>\n      <td>Colima</td>\n      <td>98868</td>\n      <td>108561</td>\n    </tr>\n    <tr>\n      <th>7</th>\n      <td>Chiapas</td>\n      <td>204783</td>\n      <td>185940</td>\n    </tr>\n    <tr>\n      <th>8</th>\n      <td>Chihuahua</td>\n      <td>416534</td>\n      <td>348219</td>\n    </tr>\n    <tr>\n      <th>9</th>\n      <td>D.F. Norte</td>\n      <td>747549</td>\n      <td>858790</td>\n    </tr>\n    <tr>\n      <th>10</th>\n      <td>D.F. Sur</td>\n      <td>810255</td>\n      <td>847858</td>\n    </tr>\n    <tr>\n      <th>11</th>\n      <td>Durango</td>\n      <td>199834</td>\n      <td>220172</td>\n    </tr>\n    <tr>\n      <th>12</th>\n      <td>Guanajuato</td>\n      <td>326205</td>\n      <td>340449</td>\n    </tr>\n    <tr>\n      <th>13</th>\n      <td>Guerrero</td>\n      <td>183165</td>\n      <td>149926</td>\n    </tr>\n    <tr>\n      <th>14</th>\n      <td>Hidalgo</td>\n      <td>166998</td>\n      <td>106540</td>\n    </tr>\n    <tr>\n      <th>15</th>\n      <td>Jalisco</td>\n      <td>969930</td>\n      <td>992035</td>\n    </tr>\n    <tr>\n      <th>16</th>\n      <td>México Oriente</td>\n      <td>1072226</td>\n      <td>759254</td>\n    </tr>\n    <tr>\n      <th>17</th>\n      <td>México Poniente</td>\n      <td>513196</td>\n      <td>506457</td>\n    </tr>\n    <tr>\n      <th>18</th>\n      <td>Michoacán</td>\n      <td>287868</td>\n      <td>280214</td>\n    </tr>\n    <tr>\n      <th>19</th>\n      <td>Morelos</td>\n      <td>111280</td>\n      <td>147855</td>\n    </tr>\n    <tr>\n      <th>20</th>\n      <td>Nayarit</td>\n      <td>134709</td>\n      <td>101418</td>\n    </tr>\n    <tr>\n      <th>21</th>\n      <td>Nuevo León</td>\n      <td>1183004</td>\n      <td>1230481</td>\n    </tr>\n    <tr>\n      <th>22</th>\n      <td>Oaxaca</td>\n      <td>133215</td>\n      <td>128741</td>\n    </tr>\n    <tr>\n      <th>23</th>\n      <td>Puebla</td>\n      <td>535152</td>\n      <td>411382</td>\n    </tr>\n    <tr>\n      <th>24</th>\n      <td>Querétaro</td>\n      <td>186260</td>\n      <td>193087</td>\n    </tr>\n    <tr>\n      <th>25</th>\n      <td>Quintana Roo</td>\n      <td>153642</td>\n      <td>200660</td>\n    </tr>\n    <tr>\n      <th>26</th>\n      <td>San Luis Potosí</td>\n      <td>306467</td>\n      <td>303288</td>\n    </tr>\n    <tr>\n      <th>27</th>\n      <td>Sinaloa</td>\n      <td>369367</td>\n      <td>352352</td>\n    </tr>\n    <tr>\n      <th>28</th>\n      <td>Sonora</td>\n      <td>396684</td>\n      <td>354032</td>\n    </tr>\n    <tr>\n      <th>29</th>\n      <td>Tabasco</td>\n      <td>131834</td>\n      <td>150103</td>\n    </tr>\n    <tr>\n      <th>30</th>\n      <td>Tamaulipas</td>\n      <td>472063</td>\n      <td>441678</td>\n    </tr>\n    <tr>\n      <th>31</th>\n      <td>Tlaxcala</td>\n      <td>83669</td>\n      <td>89937</td>\n    </tr>\n    <tr>\n      <th>32</th>\n      <td>Veracruz Norte</td>\n      <td>501131</td>\n      <td>497142</td>\n    </tr>\n    <tr>\n      <th>33</th>\n      <td>Veracruz Sur</td>\n      <td>232405</td>\n      <td>185960</td>\n    </tr>\n    <tr>\n      <th>34</th>\n      <td>Yucatán</td>\n      <td>226953</td>\n      <td>231902</td>\n    </tr>\n    <tr>\n      <th>35</th>\n      <td>Zacatecas</td>\n      <td>69607</td>\n      <td>66356</td>\n    </tr>\n  </tbody>\n</table>\n</div>"
     },
     "metadata": {},
     "execution_count": 6
    }
   ],
   "source": [
    "# Resultado parcial de DS_HIPERTENSION\n",
    "hp"
   ]
  },
  {
   "cell_type": "code",
   "execution_count": 7,
   "metadata": {},
   "outputs": [],
   "source": [
    "# Repitiendo el proceso para DS_PADECIMIENTOS\n",
    "pad = pd.read_csv(DS_PADECIMIENTOS, encoding='latin')\n",
    "# Ignorando la fila de totales y seleccionando solo las filas de estados\n",
    "pad = pad[1:36]\n",
    "# Seleccionando solo las columnas de interés\n",
    "pad = pad[[pad.columns[0], '2015', '2018']]\n",
    "# Renombrando las columnas a su clave definida en el diccionario del dataset\n",
    "pad = pad.rename(columns={\n",
    "    pad.columns[0] : 'EDO',\n",
    "    '2015' : 'DET.TOT.15',\n",
    "    '2018' : 'DET.TOT.18'\n",
    "    })"
   ]
  },
  {
   "cell_type": "code",
   "execution_count": 8,
   "metadata": {},
   "outputs": [
    {
     "output_type": "execute_result",
     "data": {
      "text/plain": "                         EDO  DET.TOT.15  DET.TOT.18\n1             Aguascalientes   1229067.0   1070207.0\n2            Baja California   3106261.0   2775290.0\n3        Baja California Sur    597622.0    590918.0\n4                   Campeche    554331.0    454911.0\n5                  Coahuila    2830690.0   3095342.0\n6                     Colima    559042.0    573927.0\n7                    Chiapas    998778.0    982119.0\n8                  Chihuahua   2469943.0   2087517.0\n9                 D.F. Norte   3950488.0   4204739.0\n10                  D.F. Sur   4592542.0   4536252.0\n11                   Durango   1167398.0   1184376.0\n12                Guanajuato   1962185.0   1927195.0\n13                  Guerrero   1068519.0    767308.0\n14                   Hidalgo    955883.0    607880.0\n15                   Jalisco   5371616.0   5546445.0\n16            México Oriente   5462159.0   4223885.0\n17           México Poniente   2797372.0   2678425.0\n18                 Michoacán   1757748.0   1547139.0\n19                   Morelos    649660.0    834148.0\n20                   Nayarit    751208.0    577340.0\n21                Nuevo León   6153203.0   6682492.0\n22                    Oaxaca    709063.0    709908.0\n23                    Puebla   2593181.0   2270745.0\n24                 Querétaro   1051502.0   1037001.0\n25              Quintana Roo    844322.0   1054534.0\n26           San Luis Potosí   1735559.0   1687380.0\n27                   Sinaloa   2173691.0   1985019.0\n28                    Sonora   2443446.0   1970240.0\n29                   Tabasco    850112.0    851130.0\n30                Tamaulipas   2612584.0   2451052.0\n31                  Tlaxcala    504474.0    514435.0\n32            Veracruz Norte   3039822.0   2732280.0\n33              Veracruz Sur   1331473.0   1040655.0\n34                   Yucatán   1165069.0   1230775.0\n35                 Zacatecas    423167.0    380154.0",
      "text/html": "<div>\n<style scoped>\n    .dataframe tbody tr th:only-of-type {\n        vertical-align: middle;\n    }\n\n    .dataframe tbody tr th {\n        vertical-align: top;\n    }\n\n    .dataframe thead th {\n        text-align: right;\n    }\n</style>\n<table border=\"1\" class=\"dataframe\">\n  <thead>\n    <tr style=\"text-align: right;\">\n      <th></th>\n      <th>EDO</th>\n      <th>DET.TOT.15</th>\n      <th>DET.TOT.18</th>\n    </tr>\n  </thead>\n  <tbody>\n    <tr>\n      <th>1</th>\n      <td>Aguascalientes</td>\n      <td>1229067.0</td>\n      <td>1070207.0</td>\n    </tr>\n    <tr>\n      <th>2</th>\n      <td>Baja California</td>\n      <td>3106261.0</td>\n      <td>2775290.0</td>\n    </tr>\n    <tr>\n      <th>3</th>\n      <td>Baja California Sur</td>\n      <td>597622.0</td>\n      <td>590918.0</td>\n    </tr>\n    <tr>\n      <th>4</th>\n      <td>Campeche</td>\n      <td>554331.0</td>\n      <td>454911.0</td>\n    </tr>\n    <tr>\n      <th>5</th>\n      <td>Coahuila</td>\n      <td>2830690.0</td>\n      <td>3095342.0</td>\n    </tr>\n    <tr>\n      <th>6</th>\n      <td>Colima</td>\n      <td>559042.0</td>\n      <td>573927.0</td>\n    </tr>\n    <tr>\n      <th>7</th>\n      <td>Chiapas</td>\n      <td>998778.0</td>\n      <td>982119.0</td>\n    </tr>\n    <tr>\n      <th>8</th>\n      <td>Chihuahua</td>\n      <td>2469943.0</td>\n      <td>2087517.0</td>\n    </tr>\n    <tr>\n      <th>9</th>\n      <td>D.F. Norte</td>\n      <td>3950488.0</td>\n      <td>4204739.0</td>\n    </tr>\n    <tr>\n      <th>10</th>\n      <td>D.F. Sur</td>\n      <td>4592542.0</td>\n      <td>4536252.0</td>\n    </tr>\n    <tr>\n      <th>11</th>\n      <td>Durango</td>\n      <td>1167398.0</td>\n      <td>1184376.0</td>\n    </tr>\n    <tr>\n      <th>12</th>\n      <td>Guanajuato</td>\n      <td>1962185.0</td>\n      <td>1927195.0</td>\n    </tr>\n    <tr>\n      <th>13</th>\n      <td>Guerrero</td>\n      <td>1068519.0</td>\n      <td>767308.0</td>\n    </tr>\n    <tr>\n      <th>14</th>\n      <td>Hidalgo</td>\n      <td>955883.0</td>\n      <td>607880.0</td>\n    </tr>\n    <tr>\n      <th>15</th>\n      <td>Jalisco</td>\n      <td>5371616.0</td>\n      <td>5546445.0</td>\n    </tr>\n    <tr>\n      <th>16</th>\n      <td>México Oriente</td>\n      <td>5462159.0</td>\n      <td>4223885.0</td>\n    </tr>\n    <tr>\n      <th>17</th>\n      <td>México Poniente</td>\n      <td>2797372.0</td>\n      <td>2678425.0</td>\n    </tr>\n    <tr>\n      <th>18</th>\n      <td>Michoacán</td>\n      <td>1757748.0</td>\n      <td>1547139.0</td>\n    </tr>\n    <tr>\n      <th>19</th>\n      <td>Morelos</td>\n      <td>649660.0</td>\n      <td>834148.0</td>\n    </tr>\n    <tr>\n      <th>20</th>\n      <td>Nayarit</td>\n      <td>751208.0</td>\n      <td>577340.0</td>\n    </tr>\n    <tr>\n      <th>21</th>\n      <td>Nuevo León</td>\n      <td>6153203.0</td>\n      <td>6682492.0</td>\n    </tr>\n    <tr>\n      <th>22</th>\n      <td>Oaxaca</td>\n      <td>709063.0</td>\n      <td>709908.0</td>\n    </tr>\n    <tr>\n      <th>23</th>\n      <td>Puebla</td>\n      <td>2593181.0</td>\n      <td>2270745.0</td>\n    </tr>\n    <tr>\n      <th>24</th>\n      <td>Querétaro</td>\n      <td>1051502.0</td>\n      <td>1037001.0</td>\n    </tr>\n    <tr>\n      <th>25</th>\n      <td>Quintana Roo</td>\n      <td>844322.0</td>\n      <td>1054534.0</td>\n    </tr>\n    <tr>\n      <th>26</th>\n      <td>San Luis Potosí</td>\n      <td>1735559.0</td>\n      <td>1687380.0</td>\n    </tr>\n    <tr>\n      <th>27</th>\n      <td>Sinaloa</td>\n      <td>2173691.0</td>\n      <td>1985019.0</td>\n    </tr>\n    <tr>\n      <th>28</th>\n      <td>Sonora</td>\n      <td>2443446.0</td>\n      <td>1970240.0</td>\n    </tr>\n    <tr>\n      <th>29</th>\n      <td>Tabasco</td>\n      <td>850112.0</td>\n      <td>851130.0</td>\n    </tr>\n    <tr>\n      <th>30</th>\n      <td>Tamaulipas</td>\n      <td>2612584.0</td>\n      <td>2451052.0</td>\n    </tr>\n    <tr>\n      <th>31</th>\n      <td>Tlaxcala</td>\n      <td>504474.0</td>\n      <td>514435.0</td>\n    </tr>\n    <tr>\n      <th>32</th>\n      <td>Veracruz Norte</td>\n      <td>3039822.0</td>\n      <td>2732280.0</td>\n    </tr>\n    <tr>\n      <th>33</th>\n      <td>Veracruz Sur</td>\n      <td>1331473.0</td>\n      <td>1040655.0</td>\n    </tr>\n    <tr>\n      <th>34</th>\n      <td>Yucatán</td>\n      <td>1165069.0</td>\n      <td>1230775.0</td>\n    </tr>\n    <tr>\n      <th>35</th>\n      <td>Zacatecas</td>\n      <td>423167.0</td>\n      <td>380154.0</td>\n    </tr>\n  </tbody>\n</table>\n</div>"
     },
     "metadata": {},
     "execution_count": 8
    }
   ],
   "source": [
    "# Resultado parcial de DS_HIPERTENSION\n",
    "pad"
   ]
  },
  {
   "cell_type": "markdown",
   "metadata": {},
   "source": [
    "## Uniendo los datasets anteriores"
   ]
  },
  {
   "cell_type": "code",
   "execution_count": 9,
   "metadata": {},
   "outputs": [],
   "source": [
    "todos = pd.merge(db, hp, on='EDO')"
   ]
  },
  {
   "cell_type": "code",
   "execution_count": 10,
   "metadata": {},
   "outputs": [],
   "source": [
    "todos = pd.merge(todos, pad, on='EDO')"
   ]
  },
  {
   "cell_type": "code",
   "execution_count": 11,
   "metadata": {},
   "outputs": [
    {
     "output_type": "execute_result",
     "data": {
      "text/plain": "                         EDO  DET.DIAB.15  DET.DIAB.18  DET.HIPT.15  \\\n0             Aguascalientes       234123       194442       201410   \n1            Baja California       582879       581767       566390   \n2        Baja California Sur        73752       106368        97565   \n3                   Campeche        67127        72631        85993   \n4                  Coahuila        478300       578930       464005   \n5                     Colima        93374       110638        98868   \n6                    Chiapas       188511       195738       204783   \n7                  Chihuahua       440178       388451       416534   \n8                 D.F. Norte      1028326      1065473       747549   \n9                   D.F. Sur       869820      1197903       810255   \n10                   Durango       215914       247689       199834   \n11                Guanajuato       263252       327972       326205   \n12                  Guerrero       178610       130607       183165   \n13                   Hidalgo       142628       106400       166998   \n14                   Jalisco      1001923      1103796       969930   \n15            México Oriente       976338       867262      1072226   \n16           México Poniente       505633       557460       513196   \n17                 Michoacán       307000       304821       287868   \n18                   Morelos       105811       153693       111280   \n19                   Nayarit       133951       105228       134709   \n20                Nuevo León      1246983      1500597      1183004   \n21                    Oaxaca       118744       126014       133215   \n22                    Puebla       349825       422246       535152   \n23                 Querétaro       176199       173383       186260   \n24              Quintana Roo       129828       184179       153642   \n25           San Luis Potosí       289503       321246       306467   \n26                   Sinaloa       415299       404599       369367   \n27                    Sonora       441915       388156       396684   \n28                   Tabasco       113499       140169       131834   \n29                Tamaulipas       510867       501576       472063   \n30                  Tlaxcala        76751        99386        83669   \n31            Veracruz Norte       501352       525493       501131   \n32              Veracruz Sur       196971       180296       232405   \n33                   Yucatán       189396       217296       226953   \n34                 Zacatecas        70501        74776        69607   \n\n    DET.HIPT.18  DET.TOT.15  DET.TOT.18  \n0        185357   1229067.0   1070207.0  \n1        512157   3106261.0   2775290.0  \n2        105735    597622.0    590918.0  \n3         79592    554331.0    454911.0  \n4        528650   2830690.0   3095342.0  \n5        108561    559042.0    573927.0  \n6        185940    998778.0    982119.0  \n7        348219   2469943.0   2087517.0  \n8        858790   3950488.0   4204739.0  \n9        847858   4592542.0   4536252.0  \n10       220172   1167398.0   1184376.0  \n11       340449   1962185.0   1927195.0  \n12       149926   1068519.0    767308.0  \n13       106540    955883.0    607880.0  \n14       992035   5371616.0   5546445.0  \n15       759254   5462159.0   4223885.0  \n16       506457   2797372.0   2678425.0  \n17       280214   1757748.0   1547139.0  \n18       147855    649660.0    834148.0  \n19       101418    751208.0    577340.0  \n20      1230481   6153203.0   6682492.0  \n21       128741    709063.0    709908.0  \n22       411382   2593181.0   2270745.0  \n23       193087   1051502.0   1037001.0  \n24       200660    844322.0   1054534.0  \n25       303288   1735559.0   1687380.0  \n26       352352   2173691.0   1985019.0  \n27       354032   2443446.0   1970240.0  \n28       150103    850112.0    851130.0  \n29       441678   2612584.0   2451052.0  \n30        89937    504474.0    514435.0  \n31       497142   3039822.0   2732280.0  \n32       185960   1331473.0   1040655.0  \n33       231902   1165069.0   1230775.0  \n34        66356    423167.0    380154.0  ",
      "text/html": "<div>\n<style scoped>\n    .dataframe tbody tr th:only-of-type {\n        vertical-align: middle;\n    }\n\n    .dataframe tbody tr th {\n        vertical-align: top;\n    }\n\n    .dataframe thead th {\n        text-align: right;\n    }\n</style>\n<table border=\"1\" class=\"dataframe\">\n  <thead>\n    <tr style=\"text-align: right;\">\n      <th></th>\n      <th>EDO</th>\n      <th>DET.DIAB.15</th>\n      <th>DET.DIAB.18</th>\n      <th>DET.HIPT.15</th>\n      <th>DET.HIPT.18</th>\n      <th>DET.TOT.15</th>\n      <th>DET.TOT.18</th>\n    </tr>\n  </thead>\n  <tbody>\n    <tr>\n      <th>0</th>\n      <td>Aguascalientes</td>\n      <td>234123</td>\n      <td>194442</td>\n      <td>201410</td>\n      <td>185357</td>\n      <td>1229067.0</td>\n      <td>1070207.0</td>\n    </tr>\n    <tr>\n      <th>1</th>\n      <td>Baja California</td>\n      <td>582879</td>\n      <td>581767</td>\n      <td>566390</td>\n      <td>512157</td>\n      <td>3106261.0</td>\n      <td>2775290.0</td>\n    </tr>\n    <tr>\n      <th>2</th>\n      <td>Baja California Sur</td>\n      <td>73752</td>\n      <td>106368</td>\n      <td>97565</td>\n      <td>105735</td>\n      <td>597622.0</td>\n      <td>590918.0</td>\n    </tr>\n    <tr>\n      <th>3</th>\n      <td>Campeche</td>\n      <td>67127</td>\n      <td>72631</td>\n      <td>85993</td>\n      <td>79592</td>\n      <td>554331.0</td>\n      <td>454911.0</td>\n    </tr>\n    <tr>\n      <th>4</th>\n      <td>Coahuila</td>\n      <td>478300</td>\n      <td>578930</td>\n      <td>464005</td>\n      <td>528650</td>\n      <td>2830690.0</td>\n      <td>3095342.0</td>\n    </tr>\n    <tr>\n      <th>5</th>\n      <td>Colima</td>\n      <td>93374</td>\n      <td>110638</td>\n      <td>98868</td>\n      <td>108561</td>\n      <td>559042.0</td>\n      <td>573927.0</td>\n    </tr>\n    <tr>\n      <th>6</th>\n      <td>Chiapas</td>\n      <td>188511</td>\n      <td>195738</td>\n      <td>204783</td>\n      <td>185940</td>\n      <td>998778.0</td>\n      <td>982119.0</td>\n    </tr>\n    <tr>\n      <th>7</th>\n      <td>Chihuahua</td>\n      <td>440178</td>\n      <td>388451</td>\n      <td>416534</td>\n      <td>348219</td>\n      <td>2469943.0</td>\n      <td>2087517.0</td>\n    </tr>\n    <tr>\n      <th>8</th>\n      <td>D.F. Norte</td>\n      <td>1028326</td>\n      <td>1065473</td>\n      <td>747549</td>\n      <td>858790</td>\n      <td>3950488.0</td>\n      <td>4204739.0</td>\n    </tr>\n    <tr>\n      <th>9</th>\n      <td>D.F. Sur</td>\n      <td>869820</td>\n      <td>1197903</td>\n      <td>810255</td>\n      <td>847858</td>\n      <td>4592542.0</td>\n      <td>4536252.0</td>\n    </tr>\n    <tr>\n      <th>10</th>\n      <td>Durango</td>\n      <td>215914</td>\n      <td>247689</td>\n      <td>199834</td>\n      <td>220172</td>\n      <td>1167398.0</td>\n      <td>1184376.0</td>\n    </tr>\n    <tr>\n      <th>11</th>\n      <td>Guanajuato</td>\n      <td>263252</td>\n      <td>327972</td>\n      <td>326205</td>\n      <td>340449</td>\n      <td>1962185.0</td>\n      <td>1927195.0</td>\n    </tr>\n    <tr>\n      <th>12</th>\n      <td>Guerrero</td>\n      <td>178610</td>\n      <td>130607</td>\n      <td>183165</td>\n      <td>149926</td>\n      <td>1068519.0</td>\n      <td>767308.0</td>\n    </tr>\n    <tr>\n      <th>13</th>\n      <td>Hidalgo</td>\n      <td>142628</td>\n      <td>106400</td>\n      <td>166998</td>\n      <td>106540</td>\n      <td>955883.0</td>\n      <td>607880.0</td>\n    </tr>\n    <tr>\n      <th>14</th>\n      <td>Jalisco</td>\n      <td>1001923</td>\n      <td>1103796</td>\n      <td>969930</td>\n      <td>992035</td>\n      <td>5371616.0</td>\n      <td>5546445.0</td>\n    </tr>\n    <tr>\n      <th>15</th>\n      <td>México Oriente</td>\n      <td>976338</td>\n      <td>867262</td>\n      <td>1072226</td>\n      <td>759254</td>\n      <td>5462159.0</td>\n      <td>4223885.0</td>\n    </tr>\n    <tr>\n      <th>16</th>\n      <td>México Poniente</td>\n      <td>505633</td>\n      <td>557460</td>\n      <td>513196</td>\n      <td>506457</td>\n      <td>2797372.0</td>\n      <td>2678425.0</td>\n    </tr>\n    <tr>\n      <th>17</th>\n      <td>Michoacán</td>\n      <td>307000</td>\n      <td>304821</td>\n      <td>287868</td>\n      <td>280214</td>\n      <td>1757748.0</td>\n      <td>1547139.0</td>\n    </tr>\n    <tr>\n      <th>18</th>\n      <td>Morelos</td>\n      <td>105811</td>\n      <td>153693</td>\n      <td>111280</td>\n      <td>147855</td>\n      <td>649660.0</td>\n      <td>834148.0</td>\n    </tr>\n    <tr>\n      <th>19</th>\n      <td>Nayarit</td>\n      <td>133951</td>\n      <td>105228</td>\n      <td>134709</td>\n      <td>101418</td>\n      <td>751208.0</td>\n      <td>577340.0</td>\n    </tr>\n    <tr>\n      <th>20</th>\n      <td>Nuevo León</td>\n      <td>1246983</td>\n      <td>1500597</td>\n      <td>1183004</td>\n      <td>1230481</td>\n      <td>6153203.0</td>\n      <td>6682492.0</td>\n    </tr>\n    <tr>\n      <th>21</th>\n      <td>Oaxaca</td>\n      <td>118744</td>\n      <td>126014</td>\n      <td>133215</td>\n      <td>128741</td>\n      <td>709063.0</td>\n      <td>709908.0</td>\n    </tr>\n    <tr>\n      <th>22</th>\n      <td>Puebla</td>\n      <td>349825</td>\n      <td>422246</td>\n      <td>535152</td>\n      <td>411382</td>\n      <td>2593181.0</td>\n      <td>2270745.0</td>\n    </tr>\n    <tr>\n      <th>23</th>\n      <td>Querétaro</td>\n      <td>176199</td>\n      <td>173383</td>\n      <td>186260</td>\n      <td>193087</td>\n      <td>1051502.0</td>\n      <td>1037001.0</td>\n    </tr>\n    <tr>\n      <th>24</th>\n      <td>Quintana Roo</td>\n      <td>129828</td>\n      <td>184179</td>\n      <td>153642</td>\n      <td>200660</td>\n      <td>844322.0</td>\n      <td>1054534.0</td>\n    </tr>\n    <tr>\n      <th>25</th>\n      <td>San Luis Potosí</td>\n      <td>289503</td>\n      <td>321246</td>\n      <td>306467</td>\n      <td>303288</td>\n      <td>1735559.0</td>\n      <td>1687380.0</td>\n    </tr>\n    <tr>\n      <th>26</th>\n      <td>Sinaloa</td>\n      <td>415299</td>\n      <td>404599</td>\n      <td>369367</td>\n      <td>352352</td>\n      <td>2173691.0</td>\n      <td>1985019.0</td>\n    </tr>\n    <tr>\n      <th>27</th>\n      <td>Sonora</td>\n      <td>441915</td>\n      <td>388156</td>\n      <td>396684</td>\n      <td>354032</td>\n      <td>2443446.0</td>\n      <td>1970240.0</td>\n    </tr>\n    <tr>\n      <th>28</th>\n      <td>Tabasco</td>\n      <td>113499</td>\n      <td>140169</td>\n      <td>131834</td>\n      <td>150103</td>\n      <td>850112.0</td>\n      <td>851130.0</td>\n    </tr>\n    <tr>\n      <th>29</th>\n      <td>Tamaulipas</td>\n      <td>510867</td>\n      <td>501576</td>\n      <td>472063</td>\n      <td>441678</td>\n      <td>2612584.0</td>\n      <td>2451052.0</td>\n    </tr>\n    <tr>\n      <th>30</th>\n      <td>Tlaxcala</td>\n      <td>76751</td>\n      <td>99386</td>\n      <td>83669</td>\n      <td>89937</td>\n      <td>504474.0</td>\n      <td>514435.0</td>\n    </tr>\n    <tr>\n      <th>31</th>\n      <td>Veracruz Norte</td>\n      <td>501352</td>\n      <td>525493</td>\n      <td>501131</td>\n      <td>497142</td>\n      <td>3039822.0</td>\n      <td>2732280.0</td>\n    </tr>\n    <tr>\n      <th>32</th>\n      <td>Veracruz Sur</td>\n      <td>196971</td>\n      <td>180296</td>\n      <td>232405</td>\n      <td>185960</td>\n      <td>1331473.0</td>\n      <td>1040655.0</td>\n    </tr>\n    <tr>\n      <th>33</th>\n      <td>Yucatán</td>\n      <td>189396</td>\n      <td>217296</td>\n      <td>226953</td>\n      <td>231902</td>\n      <td>1165069.0</td>\n      <td>1230775.0</td>\n    </tr>\n    <tr>\n      <th>34</th>\n      <td>Zacatecas</td>\n      <td>70501</td>\n      <td>74776</td>\n      <td>69607</td>\n      <td>66356</td>\n      <td>423167.0</td>\n      <td>380154.0</td>\n    </tr>\n  </tbody>\n</table>\n</div>"
     },
     "metadata": {},
     "execution_count": 11
    }
   ],
   "source": [
    "# Resultado final de esta parte\n",
    "todos"
   ]
  },
  {
   "cell_type": "code",
   "execution_count": 12,
   "metadata": {},
   "outputs": [],
   "source": [
    "# Removiendo espacios en blanco en la columna EDO\n",
    "todos['EDO'] = todos['EDO'].str.strip()"
   ]
  },
  {
   "cell_type": "code",
   "execution_count": 13,
   "metadata": {},
   "outputs": [],
   "source": [
    "# Haciendo que EDO sea el indice\n",
    "todos = todos.set_index('EDO')"
   ]
  },
  {
   "cell_type": "code",
   "execution_count": 14,
   "metadata": {},
   "outputs": [],
   "source": [
    "# Sumando filas de estado de mexico\n",
    "todos.loc['México Oriente'] += todos.loc['México Poniente']"
   ]
  },
  {
   "cell_type": "code",
   "execution_count": 15,
   "metadata": {},
   "outputs": [],
   "source": [
    "# Borrando la columna ya sumada\n",
    "todos.drop(['México Poniente'], inplace=True)"
   ]
  },
  {
   "cell_type": "code",
   "execution_count": 16,
   "metadata": {},
   "outputs": [],
   "source": [
    "# Renombrando la columna con la suma\n",
    "todos = todos.rename(index={'México Oriente' : 'México'})"
   ]
  },
  {
   "cell_type": "code",
   "execution_count": 17,
   "metadata": {},
   "outputs": [],
   "source": [
    "# Repitiendo el proceso para el DF\n",
    "todos.loc['D.F. Norte'] += todos.loc['D.F. Sur']\n",
    "todos.drop(['D.F. Sur'], inplace=True)# Renombrando la columna con la suma\n",
    "todos = todos.rename(index={'D.F. Norte' : 'CIUDAD DE MÉXICO'})"
   ]
  },
  {
   "cell_type": "code",
   "execution_count": 18,
   "metadata": {},
   "outputs": [],
   "source": [
    "# Repitiendo el proceso para el Veracruz\n",
    "todos.loc['Veracruz Norte'] += todos.loc['Veracruz Sur']\n",
    "todos.drop(['Veracruz Sur'], inplace=True)# Renombrando la columna con la suma\n",
    "todos = todos.rename(index={'Veracruz Norte' : 'Veracruz'})"
   ]
  },
  {
   "cell_type": "code",
   "execution_count": 19,
   "metadata": {},
   "outputs": [],
   "source": [
    "for estado in todos.index:\n",
    "    todos = todos.rename(index={estado : estado.upper()})"
   ]
  },
  {
   "cell_type": "code",
   "execution_count": 20,
   "metadata": {},
   "outputs": [],
   "source": [
    " todos.to_csv('EDO_DIAB_HIP_PAD.csv')"
   ]
  }
 ]
}